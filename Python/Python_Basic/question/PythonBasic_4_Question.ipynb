{
  "nbformat": 4,
  "nbformat_minor": 0,
  "metadata": {
    "colab": {
      "provenance": []
    },
    "kernelspec": {
      "name": "python3",
      "display_name": "Python 3"
    },
    "language_info": {
      "name": "python"
    }
  },
  "cells": [
    {
      "cell_type": "markdown",
      "source": [
        "<a href=\"https://colab.research.google.com/github/kiryu-3/Prmn2023/blob/main/Python/Python_Basic/question/PythonBasic_4_Question.ipynb\" target=\"_parent\"><img src=\"https://colab.research.google.com/assets/colab-badge.svg\" alt=\"Open In Colab\"/></a>"
      ],
      "metadata": {
        "id": "TA5kKi-LY1xg"
      }
    },
    {
      "cell_type": "markdown",
      "source": [
        "# 第4章 課題"
      ],
      "metadata": {
        "id": "r-kcfL2yEU8b"
      }
    },
    {
      "cell_type": "markdown",
      "source": [
        "## 課題1"
      ],
      "metadata": {
        "id": "UqgRlaNaaWsU"
      }
    },
    {
      "cell_type": "markdown",
      "source": [
        "10から2800まで、10飛ばしの数を乱数で生成し、2220000に足してください。\n",
        "\n",
        "この数を5つ生成し、一つのリストに格納した後、最終的に頭に\"b\"をつけて5つ出力してください。"
      ],
      "metadata": {
        "id": "dMngS2Dtai7U"
      }
    },
    {
      "cell_type": "markdown",
      "source": [
        "＜実行結果例＞\n",
        "``` py\n",
        "['b2220400', 'b2221750', 'b2222480', 'b2221720', 'b2220380']\n",
        "```"
      ],
      "metadata": {
        "id": "Ys4Y3shObw3w"
      }
    },
    {
      "cell_type": "code",
      "source": [
        "# 入力用\n",
        "import random\n",
        "\n",
        "num = []\n",
        "for i in range(5):\n",
        "  s_num = random.randint(1, 280) * 10 + 2220000\n",
        "  s_num1 = 'b' + str(s_num)\n",
        "  num.append(s_num1)\n",
        "\n",
        "num"
      ],
      "metadata": {
        "id": "UaBFEY3Hdbsg",
        "outputId": "5b59f2ef-8a64-46f3-b49b-b938a6fcc99c",
        "colab": {
          "base_uri": "https://localhost:8080/"
        }
      },
      "execution_count": 3,
      "outputs": [
        {
          "output_type": "execute_result",
          "data": {
            "text/plain": [
              "['b2220530', 'b2221540', 'b2220930', 'b2220680', 'b2222510']"
            ]
          },
          "metadata": {},
          "execution_count": 3
        }
      ]
    },
    {
      "cell_type": "markdown",
      "source": [
        "## 課題2"
      ],
      "metadata": {
        "id": "yRsfay5_8FuJ"
      }
    },
    {
      "cell_type": "markdown",
      "source": [
        "1桁の自然数を乱数を使って5つ格納した2つのリストを作ってください。\n",
        "この時、一つのリスト内で5つの値が重複しないようにしてください\n",
        "\n",
        "その後、対応する要素を足し合わせた新しいリストを出力してください"
      ],
      "metadata": {
        "id": "4WbYBFGr8Ht3"
      }
    },
    {
      "cell_type": "markdown",
      "source": [
        "＜実行結果例＞\n",
        "``` py\n",
        "1つ目のリスト：[1, 2, 3, 4, 5]\n",
        "2つ目のリスト：[1, 3, 5, 7, 9]\n",
        "足し合わせたリスト：[2, 5, 8, 11, 14]\n",
        "```"
      ],
      "metadata": {
        "id": "A0ImPPha84Nb"
      }
    },
    {
      "cell_type": "code",
      "source": [
        "# 入力用\n",
        "\n",
        "N = [1, 2, 3, 4, 5, 6, 7, 8, 9]\n",
        "list1 = []\n",
        "list2 = []\n",
        "ans = []\n",
        "\n",
        "list1 = random.sample(N, 5)\n",
        "list2 = random.sample(N, 5)\n",
        "\n",
        "for i in range(5):\n",
        "  ans_1 = list1[i] + list2[i]\n",
        "  ans.append(ans_1)\n",
        "\n",
        "print(list1)\n",
        "print(list2)\n",
        "print(ans)\n"
      ],
      "metadata": {
        "id": "TaJm8jn2MHmk",
        "outputId": "7ec6c544-7a4c-43bb-cc1b-5ffb6f9f15ca",
        "colab": {
          "base_uri": "https://localhost:8080/"
        }
      },
      "execution_count": 7,
      "outputs": [
        {
          "output_type": "stream",
          "name": "stdout",
          "text": [
            "[2, 8, 7, 9, 1]\n",
            "[3, 8, 4, 1, 6]\n",
            "[5, 16, 11, 10, 7]\n"
          ]
        }
      ]
    },
    {
      "cell_type": "markdown",
      "source": [
        "## 課題3"
      ],
      "metadata": {
        "id": "-qZw_n3X8xrW"
      }
    },
    {
      "cell_type": "markdown",
      "source": [
        "リストの中身を指定した数で分割してみます。\n",
        "\n",
        "以下のリストには都道府県47つが格納されています。"
      ],
      "metadata": {
        "id": "vxwATeobQf_U"
      }
    },
    {
      "cell_type": "code",
      "source": [
        "todohuken_list = [\n",
        "    '北海道', '青森県', '岩手県', '宮城県', '秋田県', '山形県', '福島県', '茨城県', '栃木県', '群馬県',\n",
        "    '埼玉県', '千葉県', '東京都', '神奈川県', '新潟県', '富山県', '石川県', '福井県', '山梨県', '長野県',\n",
        "    '岐阜県', '静岡県', '愛知県', '三重県', '滋賀県', '京都府', '大阪府', '兵庫県', '奈良県', '和歌山県',\n",
        "    '鳥取県', '島根県', '岡山県', '広島県', '山口県', '徳島県', '香川県', '愛媛県', '高知県',  '福岡県',\n",
        "    '佐賀県', '長崎県', '熊本県', '大分県', '宮崎県', '鹿児島県', '沖縄県',\n",
        "]"
      ],
      "metadata": {
        "id": "8ZdyRWbERGAY"
      },
      "execution_count": 17,
      "outputs": []
    },
    {
      "cell_type": "markdown",
      "source": [
        "\n",
        "これをランダムに1つのリストのサイズを4として分割してください"
      ],
      "metadata": {
        "id": "tGPa1uU6Qs2c"
      }
    },
    {
      "cell_type": "markdown",
      "source": [
        "＜実行結果例＞\n",
        "``` py\n",
        "[['宮崎県', '茨城県', '栃木県', '千葉県'], … , ['岩手県', '滋賀県', '宮城県']]\n",
        "```"
      ],
      "metadata": {
        "id": "PWLTwz0TXzm_"
      }
    },
    {
      "cell_type": "code",
      "source": [
        "# 入力用\n",
        "ans_list = []\n",
        "ans = []\n",
        "\n",
        "for i in range(11):\n",
        "  ans_list = random.sample(todohuken_list, 4)\n",
        "  ans.append(ans_list)\n",
        "  for j in range(4):\n",
        "    todohuken_list.remove(ans_list[j])\n",
        "\n",
        "ans.append(todohuken_list)\n",
        "\n",
        "ans\n",
        "\n"
      ],
      "metadata": {
        "id": "rgPlOseCTC_h",
        "outputId": "80b51c42-9cd7-4e34-91dd-3280ffb02330",
        "colab": {
          "base_uri": "https://localhost:8080/"
        }
      },
      "execution_count": 18,
      "outputs": [
        {
          "output_type": "execute_result",
          "data": {
            "text/plain": [
              "[['宮崎県', '鹿児島県', '和歌山県', '高知県'],\n",
              " ['大分県', '奈良県', '福岡県', '大阪府'],\n",
              " ['千葉県', '山形県', '佐賀県', '静岡県'],\n",
              " ['徳島県', '岡山県', '広島県', '神奈川県'],\n",
              " ['岩手県', '三重県', '東京都', '群馬県'],\n",
              " ['京都府', '鳥取県', '熊本県', '沖縄県'],\n",
              " ['福島県', '北海道', '滋賀県', '山口県'],\n",
              " ['新潟県', '愛知県', '福井県', '山梨県'],\n",
              " ['石川県', '岐阜県', '兵庫県', '富山県'],\n",
              " ['宮城県', '青森県', '栃木県', '愛媛県'],\n",
              " ['香川県', '島根県', '長野県', '埼玉県'],\n",
              " ['秋田県', '茨城県', '長崎県']]"
            ]
          },
          "metadata": {},
          "execution_count": 18
        }
      ]
    },
    {
      "cell_type": "markdown",
      "source": [
        "## 課題4"
      ],
      "metadata": {
        "id": "W573lh39MOlj"
      }
    },
    {
      "cell_type": "markdown",
      "source": [
        "ある大学の名前と年齢が、次のような形式で格納されたリスト `university_list` があります。"
      ],
      "metadata": {
        "id": "sSIMKY-aNcIx"
      }
    },
    {
      "cell_type": "code",
      "source": [
        "university_list = [\n",
        "    \"Chitose,25\",\n",
        "    \"Hokudai,105\",\n",
        "    \"Muroran,74\",\n",
        "    \"Hakodate,23\",\n",
        "]"
      ],
      "metadata": {
        "id": "v-wGyWuKK3wl"
      },
      "execution_count": 19,
      "outputs": []
    },
    {
      "cell_type": "markdown",
      "source": [
        "このリストを、年齢順にソートして、新たなリストとして出力してください"
      ],
      "metadata": {
        "id": "XIxDf9QgO1iH"
      }
    },
    {
      "cell_type": "markdown",
      "source": [
        "＜実行結果＞\n",
        "``` py\n",
        "['Chitose,25', 'Hokudai,105', 'Muroran,74', 'Hakodate,23']\n",
        "['Hakodate,23', 'Chitose,25', 'Muroran,74', 'Hokudai,105']\n",
        "```"
      ],
      "metadata": {
        "id": "0Z2-_1dAQENU"
      }
    },
    {
      "cell_type": "code",
      "source": [
        "# 入力用\n",
        "ans = []\n",
        "\n",
        "ans = sorted(university_list, key=lambda x: int(x.split(',')[1]))\n",
        "ans"
      ],
      "metadata": {
        "id": "ficNVfkgR5Kv",
        "outputId": "5b86310c-6b8a-45b6-d4ec-0a6bd4ced110",
        "colab": {
          "base_uri": "https://localhost:8080/"
        }
      },
      "execution_count": 24,
      "outputs": [
        {
          "output_type": "execute_result",
          "data": {
            "text/plain": [
              "['Hakodate,23', 'Chitose,25', 'Muroran,74', 'Hokudai,105']"
            ]
          },
          "metadata": {},
          "execution_count": 24
        }
      ]
    },
    {
      "cell_type": "markdown",
      "source": [
        "## 課題5"
      ],
      "metadata": {
        "id": "QijnXk7UWAVC"
      }
    },
    {
      "cell_type": "markdown",
      "source": [
        "**FizzBuzz（フィズ・バズ）問題**という問題について解いていきます。\n",
        "\n",
        "もともとは、英語圏で長距離ドライブ中や飲み会の時に行われる言葉遊びです。"
      ],
      "metadata": {
        "id": "m7F47Q1mWCA6"
      }
    },
    {
      "cell_type": "markdown",
      "source": [
        "以下のような問題になります。\n",
        "\n",
        "1～Nまでの整数を順に出力しなさい。ただし、例外として以下のルールを守ること。\n",
        "\n",
        "* 3で割り切れる数字の場合は\"Fizz\"を出力\n",
        "* 5で割り切れる数字の場合は\"Buzz\"を出力\n",
        "* どちらでも割り切れる数字の場合は\"FizzBuzz\"を出力"
      ],
      "metadata": {
        "id": "fArw0VcNWgwZ"
      }
    },
    {
      "cell_type": "markdown",
      "source": [
        "ここではN=100として、まずは一つのリストに\n",
        "\"Fizz\" か \"Buzz\" か \"FizzBuzz\" か \"others\" を格納してください。\n",
        "\n",
        "その後、それぞれの要素の数をカウントしてください。"
      ],
      "metadata": {
        "id": "SYqkpYstWm7Z"
      }
    },
    {
      "cell_type": "markdown",
      "source": [
        "＜実行結果＞\n",
        "``` py\n",
        "FizzBuzzの数：6\n",
        "Fizzの数：27\n",
        "Buzzの数：14\n",
        "othersの数：53\n",
        "```"
      ],
      "metadata": {
        "id": "OqLuJTcWYzFt"
      }
    },
    {
      "cell_type": "code",
      "source": [
        "# 入力用\n",
        "N = range(100)\n",
        "ans = []\n",
        "FB = 0\n",
        "F = 0\n",
        "B = 0\n",
        "O = 0\n",
        "\n",
        "for i in N:\n",
        "  if N[i]%3==0 and N[i]%5==0:\n",
        "    FB = FB + 1\n",
        "  elif N[i]%3==0:\n",
        "    F = F + 1\n",
        "  elif N[i]%5==0:\n",
        "    B = B + 1\n",
        "  else:\n",
        "    O = O + 1\n",
        "\n",
        "print(FB, F, B, O)\n"
      ],
      "metadata": {
        "id": "5kEDaVLmaEpb",
        "outputId": "f777db80-7310-4fc7-f152-ee609da2897e",
        "colab": {
          "base_uri": "https://localhost:8080/"
        }
      },
      "execution_count": 26,
      "outputs": [
        {
          "output_type": "stream",
          "name": "stdout",
          "text": [
            "7 27 13 53\n"
          ]
        }
      ]
    },
    {
      "cell_type": "code",
      "source": [],
      "metadata": {
        "id": "LJizLjoWqyJN"
      },
      "execution_count": null,
      "outputs": []
    }
  ]
}