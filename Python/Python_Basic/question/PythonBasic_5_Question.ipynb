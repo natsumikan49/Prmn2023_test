{
  "nbformat": 4,
  "nbformat_minor": 0,
  "metadata": {
    "colab": {
      "provenance": []
    },
    "kernelspec": {
      "name": "python3",
      "display_name": "Python 3"
    },
    "language_info": {
      "name": "python"
    }
  },
  "cells": [
    {
      "cell_type": "markdown",
      "source": [
        "<a href=\"https://colab.research.google.com/github/kiryu-3/Prmn2023/blob/main/Python/Python_Basic/question/PythonBasic_5_Question.ipynb\" target=\"_parent\"><img src=\"https://colab.research.google.com/assets/colab-badge.svg\" alt=\"Open In Colab\"/></a>"
      ],
      "metadata": {
        "id": "TA5kKi-LY1xg"
      }
    },
    {
      "cell_type": "markdown",
      "source": [
        "# 第5章 課題"
      ],
      "metadata": {
        "id": "r-kcfL2yEU8b"
      }
    },
    {
      "cell_type": "markdown",
      "source": [
        "## 課題1"
      ],
      "metadata": {
        "id": "RWo2DmBs_2c4"
      }
    },
    {
      "cell_type": "markdown",
      "source": [
        "1桁の自然数を乱数を使って5つ格納した2つのリストを作ってください。\n",
        "この時、一つのリスト内で5つの値が重複しないようにしてください\n",
        "\n",
        "その後、そのリストから重複する要素を削除した新しいリストと、\n",
        "共通の要素を持つ新しいリストを出力してください"
      ],
      "metadata": {
        "id": "QRNvqmTgE8Ww"
      }
    },
    {
      "cell_type": "markdown",
      "source": [
        "＜実行結果例＞\n",
        "``` py\n",
        "1つ目のリスト：[1, 2, 3, 4, 5]\n",
        "2つ目のリスト：[1, 3, 5, 7, 9]\n",
        "重複削除リスト：[1, 2, 3, 4, 5, 7, 9]\n",
        "共通要素リスト：[1, 3, 5]\n",
        "```"
      ],
      "metadata": {
        "id": "Goi4CqGxFOpn"
      }
    },
    {
      "cell_type": "markdown",
      "source": [
        "＜ヒント＞ set関数を用いても用いなくても答えは出せます。"
      ],
      "metadata": {
        "id": "iEOFeFjqkkyS"
      }
    },
    {
      "cell_type": "code",
      "source": [
        "# 入力用\n",
        "\n",
        "import random\n",
        "\n",
        "N = [1, 2, 3, 4, 5, 6, 7, 8, 9]\n",
        "list1 = []\n",
        "list2 = []\n",
        "ans_1 = []\n",
        "ans_2 = []\n",
        "\n",
        "list1 = random.sample(N, 5)\n",
        "list2 = random.sample(N, 5)\n",
        "\n",
        "for i in range(5):\n",
        "  ans_1.append(list1[i])\n",
        "\n",
        "for j in range(5):\n",
        "  if list2[j] not in ans_1:\n",
        "    ans_1.append(list2[j])\n",
        "\n",
        "for i in range(5):\n",
        "  for j in range(5):\n",
        "    if list1[i] == list2[j]:\n",
        "      ans_2.append(list2[j])\n",
        "\n",
        "ans_1.sort()\n",
        "ans_2.sort()\n",
        "\n",
        "print(list1)\n",
        "print(list2)\n",
        "print(ans_1)\n",
        "print(ans_2)\n",
        "\n"
      ],
      "metadata": {
        "id": "pQdhCOALMGWj",
        "outputId": "5534c6ec-aba1-4a7e-a5d9-ce6ccf6fc49d",
        "colab": {
          "base_uri": "https://localhost:8080/"
        }
      },
      "execution_count": 5,
      "outputs": [
        {
          "output_type": "stream",
          "name": "stdout",
          "text": [
            "[4, 2, 9, 3, 5]\n",
            "[4, 7, 9, 8, 2]\n",
            "[2, 3, 4, 5, 7, 8, 9]\n",
            "[2, 4, 9]\n"
          ]
        }
      ]
    },
    {
      "cell_type": "markdown",
      "source": [
        "## 課題2"
      ],
      "metadata": {
        "id": "-qZw_n3X8xrW"
      }
    },
    {
      "cell_type": "markdown",
      "source": [
        "共通のキーを持つ辞書を要素とするリストから、特定のキーの値のリストを取得してみます。"
      ],
      "metadata": {
        "id": "vxwATeobQf_U"
      }
    },
    {
      "cell_type": "markdown",
      "source": [
        "以下のリストから、都道府県コード・都道府県・県庁所在地それぞれのリストを作成してください\n",
        "\n",
        "キーが存在しないところがある点に注意してください"
      ],
      "metadata": {
        "id": "tGPa1uU6Qs2c"
      }
    },
    {
      "cell_type": "code",
      "source": [
        "todohuken_data = [{\"コード\": 24, \"都道府県\": \"三重\", \"県庁所在地\": \"津\"},\n",
        "                  {\"コード\": 25, \"都道府県\": \"滋賀\", \"県庁所在地\": \"大津\"},\n",
        "                  {\"コード\": 31, \"都道府県\": \"鳥取\"},\n",
        "                  {\"コード\": 32, \"都道府県\": \"島根\", \"県庁所在地\": \"松江\"},\n",
        "                  {\"コード\": 37, \"都道府県\": \"香川\", \"県庁所在地\": \"高松\"},\n",
        "                  {\"コード\": 38, \"都道府県\": \"愛媛\", \"県庁所在地\": \"松山\"},]"
      ],
      "metadata": {
        "id": "8ZdyRWbERGAY"
      },
      "execution_count": 6,
      "outputs": []
    },
    {
      "cell_type": "markdown",
      "source": [
        "＜出力結果例＞\n",
        "``` py\n",
        "[24, 25, 31, 32, 37, 38]\n",
        "['三重', '滋賀', '鳥取', '島根', '香川', '愛媛']\n",
        "['津', '大津', None, '松江', '高松', '松山']\n",
        "```"
      ],
      "metadata": {
        "id": "dQ2n3OMSUXh2"
      }
    },
    {
      "cell_type": "code",
      "source": [
        "# 入力用\n",
        "\n",
        "code = []\n",
        "prefectures = []\n",
        "capital = []\n",
        "\n",
        "code = [i.get('コード') for i in todohuken_data]\n",
        "prefectures = [i.get('都道府県') for i in todohuken_data]\n",
        "capital = [i.get('県庁所在地') for i in todohuken_data]\n",
        "\n",
        "print(code)\n",
        "print(prefectures)\n",
        "print(capital)"
      ],
      "metadata": {
        "id": "duwCERgQUify",
        "outputId": "f01b6898-676e-4558-a4da-9e1ed96ba6c9",
        "colab": {
          "base_uri": "https://localhost:8080/"
        }
      },
      "execution_count": 11,
      "outputs": [
        {
          "output_type": "stream",
          "name": "stdout",
          "text": [
            "[24, 25, 31, 32, 37, 38]\n",
            "['三重', '滋賀', '鳥取', '島根', '香川', '愛媛']\n",
            "['津', '大津', None, '松江', '高松', '松山']\n"
          ]
        }
      ]
    },
    {
      "cell_type": "markdown",
      "source": [
        "## 課題3"
      ],
      "metadata": {
        "id": "1S8kadYgq_gV"
      }
    },
    {
      "cell_type": "markdown",
      "source": [
        "ある文字列が与えられた場合、文字列内の各文字の出現回数をディクショナリの形で返してください\n",
        "\n",
        "大文字と小文字は区別してください\n",
        "また、出力時はアルファベット順にソートした状態にしてください"
      ],
      "metadata": {
        "id": "OdSKG7k9rA7V"
      }
    },
    {
      "cell_type": "markdown",
      "source": [
        "＜実行結果例＞　「Hello, World!」の各文字のカウント\n",
        "``` py\n",
        "{'H': 1, 'W': 1, 'd': 1, 'e': 1, 'l': 3, 'o': 2, 'r': 1}\n",
        "```"
      ],
      "metadata": {
        "id": "p0suMufQuEzI"
      }
    },
    {
      "cell_type": "code",
      "source": [
        "# 入力用\n",
        "\n",
        "import collections\n",
        "\n",
        "string = \"mathematics\"\n",
        "ans = {}\n",
        "\n",
        "# アルファベット以外の文字を削除 最初に実行してください\n",
        "string = ''.join(c for c in string if c.isalpha())\n",
        "\n",
        "ans = collections.Counter(string)\n",
        "ans = sorted(ans.items())\n",
        "ans = dict((x, y) for x, y in ans)\n",
        "\n",
        "ans\n"
      ],
      "metadata": {
        "id": "bHv50oDhrdzN",
        "outputId": "266fd1b7-ca56-4242-f1f6-c37bd118c69e",
        "colab": {
          "base_uri": "https://localhost:8080/"
        }
      },
      "execution_count": 16,
      "outputs": [
        {
          "output_type": "execute_result",
          "data": {
            "text/plain": [
              "{'a': 2, 'c': 1, 'e': 1, 'h': 1, 'i': 1, 'm': 2, 's': 1, 't': 2}"
            ]
          },
          "metadata": {},
          "execution_count": 16
        }
      ]
    },
    {
      "cell_type": "markdown",
      "source": [
        "## 課題4"
      ],
      "metadata": {
        "id": "W573lh39MOlj"
      }
    },
    {
      "cell_type": "markdown",
      "source": [
        "ある大学の名前と年齢が、次のような形式で格納されたディクショナリ `university_dic` があります。"
      ],
      "metadata": {
        "id": "sSIMKY-aNcIx"
      }
    },
    {
      "cell_type": "code",
      "source": [
        "university_dic = {\n",
        "    \"Chitose\" : 25,\n",
        "    \"Hokudai\" : 105,\n",
        "    \"Muroran\" : 74,\n",
        "    \"Hakodate\": 23,\n",
        "}"
      ],
      "metadata": {
        "id": "v-wGyWuKK3wl"
      },
      "execution_count": 17,
      "outputs": []
    },
    {
      "cell_type": "markdown",
      "source": [
        "このリストを、年齢順にソートして、新たなディクショナリとして出力してください"
      ],
      "metadata": {
        "id": "XIxDf9QgO1iH"
      }
    },
    {
      "cell_type": "markdown",
      "source": [
        "＜実行結果＞\n",
        "``` py\n",
        "{'Hakodate': 23, 'Chitose': 25, 'Muroran': 74, 'Hokudai': 105}\n",
        "```"
      ],
      "metadata": {
        "id": "0Z2-_1dAQENU"
      }
    },
    {
      "cell_type": "code",
      "source": [
        "# 入力用\n",
        "\n",
        "ans = {}\n",
        "\n",
        "ans = sorted(university_dic.items(), key=lambda x:x[1])\n",
        "ans = dict((x, y) for x, y in ans)\n",
        "\n",
        "ans\n"
      ],
      "metadata": {
        "id": "ficNVfkgR5Kv",
        "outputId": "08867d3a-bdc1-4401-8fcf-9c7a8fe104d6",
        "colab": {
          "base_uri": "https://localhost:8080/"
        }
      },
      "execution_count": 19,
      "outputs": [
        {
          "output_type": "execute_result",
          "data": {
            "text/plain": [
              "{'Hakodate': 23, 'Chitose': 25, 'Muroran': 74, 'Hokudai': 105}"
            ]
          },
          "metadata": {},
          "execution_count": 19
        }
      ]
    },
    {
      "cell_type": "markdown",
      "source": [
        "## 課題5"
      ],
      "metadata": {
        "id": "QijnXk7UWAVC"
      }
    },
    {
      "cell_type": "markdown",
      "source": [
        "**FizzBuzz（フィズ・バズ）問題**という問題について解いていきます。\n",
        "\n",
        "もともとは、英語圏で長距離ドライブ中や飲み会の時に行われる言葉遊びです。"
      ],
      "metadata": {
        "id": "m7F47Q1mWCA6"
      }
    },
    {
      "cell_type": "markdown",
      "source": [
        "以下のような問題になります。\n",
        "\n",
        "1～Nまでの整数を順に出力しなさい。ただし、例外として以下のルールを守ること。\n",
        "\n",
        "* 3で割り切れる数字の場合はFizzを出力\n",
        "* 5で割り切れる数字の場合はBuzzを出力\n",
        "* 7で割り切れる数字の場合はJazzを出力\n",
        "* 複数条件が当てはまる場合は組み合わせて出力（ \"FizzBuzz\", \"FizzJazz\", \"BuzzJazz\" など）"
      ],
      "metadata": {
        "id": "fArw0VcNWgwZ"
      }
    },
    {
      "cell_type": "markdown",
      "source": [
        "ここでは N=100として、まずは一つのリストに\n",
        "\"Fizz\" か \"Buzz\" か \"Jazz\" か \"組み合わさったもの\" か \"others\" を格納してください。\n",
        "\n",
        "その後、それぞれの要素の数をカウントし、ディクショナリの形で出力してください。"
      ],
      "metadata": {
        "id": "SYqkpYstWm7Z"
      }
    },
    {
      "cell_type": "markdown",
      "source": [
        "＜実行結果例＞\n",
        "``` py\n",
        "{'Fizz': 23, 'Buzz': 12, 'Jazz': 8, 'FizzBuzz': 6, 'FizzJazz': 4, 'BuzzJazz': 2, 'others': 45}\n",
        "```"
      ],
      "metadata": {
        "id": "OqLuJTcWYzFt"
      }
    },
    {
      "cell_type": "code",
      "source": [
        "# 入力用\n",
        "\n",
        "N = range(100)\n",
        "\n",
        "FizzBazz = []\n",
        "FizzJazz = []\n",
        "BazzJazz = []\n",
        "Fizz = []\n",
        "Bazz = []\n",
        "Jazz = []\n",
        "Others = []\n",
        "ans = {}\n",
        "\n",
        "\n",
        "for i in N:\n",
        "  if i % 3 == 0 and i % 5 == 0:\n",
        "    FizzBazz.append(i)\n",
        "  elif i % 3 == 0 and i % 7 == 0:\n",
        "    FizzJazz.append(i)\n",
        "  elif i % 5 == 0 and i % 7 == 0:\n",
        "    BazzJazz.append(i)\n",
        "  elif i % 3 == 0:\n",
        "    Fizz.append(i)\n",
        "  elif i % 5 == 0:\n",
        "    Bazz.append(i)\n",
        "  elif i % 7 == 0:\n",
        "    Jazz.append(i)\n",
        "  else:\n",
        "    Others.append(i)\n",
        "\n",
        "ans = {'FizzBazz':len(FizzBazz), 'FizzJazz':len(FizzJazz), 'BazzJazz':len(BazzJazz), 'Fizz':len(Fizz), 'Bazz':len(Bazz), 'Jazz':len(Jazz), 'Others':len(Others)}\n",
        "\n",
        "ans"
      ],
      "metadata": {
        "id": "BLYbI0E48o2G",
        "outputId": "36355999-4d7a-420e-9cc3-b5e1539d4386",
        "colab": {
          "base_uri": "https://localhost:8080/"
        }
      },
      "execution_count": 21,
      "outputs": [
        {
          "output_type": "execute_result",
          "data": {
            "text/plain": [
              "{'FizzBazz': 7,\n",
              " 'FizzJazz': 4,\n",
              " 'BazzJazz': 2,\n",
              " 'Fizz': 23,\n",
              " 'Bazz': 11,\n",
              " 'Jazz': 8,\n",
              " 'Others': 45}"
            ]
          },
          "metadata": {},
          "execution_count": 21
        }
      ]
    },
    {
      "cell_type": "code",
      "source": [],
      "metadata": {
        "id": "k4v1cDfyBrNm"
      },
      "execution_count": null,
      "outputs": []
    }
  ]
}