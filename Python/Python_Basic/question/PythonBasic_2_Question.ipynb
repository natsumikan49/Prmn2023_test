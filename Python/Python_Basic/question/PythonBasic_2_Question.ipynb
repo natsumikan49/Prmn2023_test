{
  "nbformat": 4,
  "nbformat_minor": 0,
  "metadata": {
    "colab": {
      "provenance": [],
      "include_colab_link": true
    },
    "kernelspec": {
      "name": "python3",
      "display_name": "Python 3"
    },
    "language_info": {
      "name": "python"
    }
  },
  "cells": [
    {
      "cell_type": "markdown",
      "metadata": {
        "id": "view-in-github",
        "colab_type": "text"
      },
      "source": [
        "<a href=\"https://colab.research.google.com/github/natsumikan49/Prmn2023_test/blob/main/Python/Python_Basic/question/PythonBasic_2_Question.ipynb\" target=\"_parent\"><img src=\"https://colab.research.google.com/assets/colab-badge.svg\" alt=\"Open In Colab\"/></a>"
      ]
    },
    {
      "cell_type": "markdown",
      "source": [
        "# 第2章 課題"
      ],
      "metadata": {
        "id": "C44SsXDACtHu"
      }
    },
    {
      "cell_type": "markdown",
      "source": [
        "## 課題1"
      ],
      "metadata": {
        "id": "OnkezWHRCwr9"
      }
    },
    {
      "cell_type": "markdown",
      "source": [
        "for文を使って、以下のように出力してください"
      ],
      "metadata": {
        "id": "q32rK-cECzCl"
      }
    },
    {
      "cell_type": "markdown",
      "source": [
        "![oSFeQoX.png](https://i.imgur.com/oSFeQoX.png)"
      ],
      "metadata": {
        "id": "FxMcxznVB6cI"
      }
    },
    {
      "cell_type": "code",
      "source": [
        "# 入力用\n",
        "\n",
        "import numpy as np\n",
        "\n",
        "n = 4\n",
        "\n",
        "for i in range(n):\n",
        "\n",
        "  for j in range(n - i - 1):\n",
        "    print(' ', end=\"\")\n",
        "\n",
        "  for k in range(2 * i + 1):\n",
        "    print('*', end=\"\")\n",
        "  \n",
        "  print('\\n')\n",
        "\n",
        "  "
      ],
      "metadata": {
        "id": "iBFSsrdRC5Zt",
        "outputId": "295da2e1-3b60-4adf-bf4f-5457346825ce",
        "colab": {
          "base_uri": "https://localhost:8080/"
        }
      },
      "execution_count": 11,
      "outputs": [
        {
          "output_type": "stream",
          "name": "stdout",
          "text": [
            "   *\n",
            "\n",
            "  ***\n",
            "\n",
            " *****\n",
            "\n",
            "*******\n",
            "\n"
          ]
        }
      ]
    },
    {
      "cell_type": "markdown",
      "source": [
        "## 課題2"
      ],
      "metadata": {
        "id": "gIn-UqGTCagu"
      }
    },
    {
      "cell_type": "markdown",
      "source": [
        "課題1の場合を`n=4`として、nを自分で設定して出力できるようにしてください"
      ],
      "metadata": {
        "id": "ltdiEdqYDFy8"
      }
    },
    {
      "cell_type": "markdown",
      "source": [
        "＜例＞ n=5の場合  \n",
        "![o5NjugQ.png](https://imgur.com/o5NjugQ.png)"
      ],
      "metadata": {
        "id": "hw0FM8BRDHz1"
      }
    },
    {
      "cell_type": "code",
      "source": [
        "# 入力用\n",
        "\n",
        "import numpy as np\n",
        "\n",
        "n = 5\n",
        "\n",
        "for i in range(n):\n",
        "\n",
        "  for j in range(n - i - 1):\n",
        "    print(' ', end=\"\")\n",
        "\n",
        "  for k in range(2 * i + 1):\n",
        "    print('*', end=\"\")\n",
        "  \n",
        "  print('\\n')\n"
      ],
      "metadata": {
        "id": "upd76Tv-FrIB",
        "outputId": "103515ac-cf82-4392-9fc3-daeef6fc8a13",
        "colab": {
          "base_uri": "https://localhost:8080/"
        }
      },
      "execution_count": 12,
      "outputs": [
        {
          "output_type": "stream",
          "name": "stdout",
          "text": [
            "    *\n",
            "\n",
            "   ***\n",
            "\n",
            "  *****\n",
            "\n",
            " *******\n",
            "\n",
            "*********\n",
            "\n"
          ]
        }
      ]
    },
    {
      "cell_type": "markdown",
      "source": [
        "## 課題3"
      ],
      "metadata": {
        "id": "tLMJvwBDE7wT"
      }
    },
    {
      "cell_type": "markdown",
      "source": [
        "for文を使って、以下のように出力してください"
      ],
      "metadata": {
        "id": "vZNvWsG7E99q"
      }
    },
    {
      "cell_type": "markdown",
      "source": [
        "![oSirXec.png](https://imgur.com/oSirXec.png)"
      ],
      "metadata": {
        "id": "ijOV-ilXGDNR"
      }
    },
    {
      "cell_type": "code",
      "source": [
        "# 入力用\n",
        "\n",
        "import numpy as np\n",
        "\n",
        "# 大きさの指定\n",
        "n = 4\n",
        "\n",
        "# 上半分の出力\n",
        "for i in range(n):\n",
        "\n",
        "  for j in range(n - i - 1):\n",
        "    print(' ', end=\"\")\n",
        "\n",
        "  for j in range(2 * i + 1):\n",
        "    print('*', end=\"\")\n",
        "  \n",
        "  print('\\n')\n",
        "\n",
        "# 下半分の出力\n",
        "for i in reversed(range(n-1)):\n",
        "\n",
        "  for j in range(n - i - 1):\n",
        "    print(' ', end=\"\")\n",
        "\n",
        "  for j in range(2 * i + 1):\n",
        "    print('*', end=\"\")\n",
        "  \n",
        "  print('\\n')"
      ],
      "metadata": {
        "id": "Q5Ob9uZpGIE3",
        "outputId": "ffb102cd-69fc-4b96-8911-d3834f46239a",
        "colab": {
          "base_uri": "https://localhost:8080/"
        }
      },
      "execution_count": 17,
      "outputs": [
        {
          "output_type": "stream",
          "name": "stdout",
          "text": [
            "   *\n",
            "\n",
            "  ***\n",
            "\n",
            " *****\n",
            "\n",
            "*******\n",
            "\n",
            " *****\n",
            "\n",
            "  ***\n",
            "\n",
            "   *\n",
            "\n"
          ]
        }
      ]
    },
    {
      "cell_type": "markdown",
      "source": [
        "## 課題4"
      ],
      "metadata": {
        "id": "Oh7whOPkGQ3I"
      }
    },
    {
      "cell_type": "markdown",
      "source": [
        "課題3の場合を`n=4`として、nを自分で設定して出力できるようにしてください"
      ],
      "metadata": {
        "id": "PnvT8MQbGS03"
      }
    },
    {
      "cell_type": "markdown",
      "source": [
        "＜例＞ n=5の場合  \n",
        "\n",
        "![my4J17V.png](https://i.imgur.com/my4J17V.png)"
      ],
      "metadata": {
        "id": "ZujkAbVMGzhn"
      }
    },
    {
      "cell_type": "code",
      "source": [
        "# 入力用\n",
        "\n",
        "import numpy as np\n",
        "\n",
        "# 大きさの指定\n",
        "n = 5\n",
        "\n",
        "# 上半分の出力\n",
        "for i in range(n):\n",
        "\n",
        "  for j in range(n - i - 1):\n",
        "    print(' ', end=\"\")\n",
        "\n",
        "  for j in range(2 * i + 1):\n",
        "    print('*', end=\"\")\n",
        "  \n",
        "  print('\\n')\n",
        "\n",
        "# 下半分の出力\n",
        "for i in reversed(range(n-1)):\n",
        "\n",
        "  for j in range(n - i - 1):\n",
        "    print(' ', end=\"\")\n",
        "\n",
        "  for j in range(2 * i + 1):\n",
        "    print('*', end=\"\")\n",
        "  \n",
        "  print('\\n')"
      ],
      "metadata": {
        "id": "hCFNQ7mWG99u",
        "outputId": "9f32dd70-8aee-499d-d076-c8f78e12b573",
        "colab": {
          "base_uri": "https://localhost:8080/"
        }
      },
      "execution_count": 18,
      "outputs": [
        {
          "output_type": "stream",
          "name": "stdout",
          "text": [
            "    *\n",
            "\n",
            "   ***\n",
            "\n",
            "  *****\n",
            "\n",
            " *******\n",
            "\n",
            "*********\n",
            "\n",
            " *******\n",
            "\n",
            "  *****\n",
            "\n",
            "   ***\n",
            "\n",
            "    *\n",
            "\n"
          ]
        }
      ]
    },
    {
      "cell_type": "markdown",
      "source": [
        "## 課題5"
      ],
      "metadata": {
        "id": "R2MvOK4wHJlK"
      }
    },
    {
      "cell_type": "markdown",
      "source": [
        "for文を使って、以下のように出力してください"
      ],
      "metadata": {
        "id": "ddMIUoaKHcwd"
      }
    },
    {
      "cell_type": "markdown",
      "source": [
        "![vDUi5eM.png](https://imgur.com/vDUi5eM.png)"
      ],
      "metadata": {
        "id": "CD1cVUlWHLVO"
      }
    },
    {
      "cell_type": "code",
      "source": [
        "# 入力用\n",
        "\n",
        "import numpy as np\n",
        "\n",
        "# 大きさの指定\n",
        "n = 4\n",
        "\n",
        "# 上半分の出力\n",
        "for i in range(n):\n",
        "\n",
        "  for j in range(n - i - 1):\n",
        "    print(' ', end=\"\")\n",
        "\n",
        "  for j in range(2 * i + 1):\n",
        "    print('*', end=\"\")\n",
        "\n",
        "  for j in range(2*(n-i-1)-1):\n",
        "    print(' ', end=\"\")\n",
        "\n",
        "  for j in range(2 * i + 1):\n",
        "    print('*', end=\"\")\n",
        "  \n",
        "  print('\\n')\n",
        "\n",
        "# 下半分の出力\n",
        "for i in reversed(range(n-1)):\n",
        "\n",
        "  for j in range(n - i - 1):\n",
        "    print(' ', end=\"\")\n",
        "\n",
        "  for j in range(2 * i + 1):\n",
        "    print('*', end=\"\")\n",
        "\n",
        "  for j in range(2*(n-i-1)-1):\n",
        "    print(' ', end=\"\")\n",
        "\n",
        "  for j in range(2 * i + 1):\n",
        "    print('*', end=\"\")\n",
        "  \n",
        "  print('\\n')"
      ],
      "metadata": {
        "id": "1pDkfJpUHd93",
        "outputId": "9844c423-2c8b-4724-e055-8802b30126e5",
        "colab": {
          "base_uri": "https://localhost:8080/"
        }
      },
      "execution_count": 20,
      "outputs": [
        {
          "output_type": "stream",
          "name": "stdout",
          "text": [
            "   *     *\n",
            "\n",
            "  ***   ***\n",
            "\n",
            " ***** *****\n",
            "\n",
            "**************\n",
            "\n",
            " ***** *****\n",
            "\n",
            "  ***   ***\n",
            "\n",
            "   *     *\n",
            "\n"
          ]
        }
      ]
    },
    {
      "cell_type": "markdown",
      "source": [
        "## 課題6"
      ],
      "metadata": {
        "id": "oubbafOBHerl"
      }
    },
    {
      "cell_type": "markdown",
      "source": [
        "課題5の場合を`n=4`として、nを自分で設定して出力できるようにしてください"
      ],
      "metadata": {
        "id": "7SzgFdC-HzG9"
      }
    },
    {
      "cell_type": "markdown",
      "source": [
        "＜例＞ n=5の場合  \n",
        "\n",
        "![udkVlYG.png](https://imgur.com/udkVlYG.png)"
      ],
      "metadata": {
        "id": "LY8g9PVPH2OW"
      }
    },
    {
      "cell_type": "code",
      "source": [
        "# 入力用\n",
        "\n",
        "import numpy as np\n",
        "\n",
        "# 大きさの指定\n",
        "n = 5\n",
        "\n",
        "# 上半分の出力\n",
        "for i in range(n):\n",
        "\n",
        "  for j in range(n - i - 1):\n",
        "    print(' ', end=\"\")\n",
        "\n",
        "  for j in range(2 * i + 1):\n",
        "    print('*', end=\"\")\n",
        "\n",
        "  for j in range(2*(n-i-1)-1):\n",
        "    print(' ', end=\"\")\n",
        "\n",
        "  for j in range(2 * i + 1):\n",
        "    print('*', end=\"\")\n",
        "  \n",
        "  print('\\n')\n",
        "\n",
        "# 下半分の出力\n",
        "for i in reversed(range(n-1)):\n",
        "\n",
        "  for j in range(n - i - 1):\n",
        "    print(' ', end=\"\")\n",
        "\n",
        "  for j in range(2 * i + 1):\n",
        "    print('*', end=\"\")\n",
        "\n",
        "  for j in range(2*(n-i-1)-1):\n",
        "    print(' ', end=\"\")\n",
        "\n",
        "  for j in range(2 * i + 1):\n",
        "    print('*', end=\"\")\n",
        "  \n",
        "  print('\\n')"
      ],
      "metadata": {
        "id": "XZOK5ulbH-tu",
        "outputId": "74960e8c-d679-4e08-e909-83674af00a0c",
        "colab": {
          "base_uri": "https://localhost:8080/"
        }
      },
      "execution_count": 21,
      "outputs": [
        {
          "output_type": "stream",
          "name": "stdout",
          "text": [
            "    *       *\n",
            "\n",
            "   ***     ***\n",
            "\n",
            "  *****   *****\n",
            "\n",
            " ******* *******\n",
            "\n",
            "******************\n",
            "\n",
            " ******* *******\n",
            "\n",
            "  *****   *****\n",
            "\n",
            "   ***     ***\n",
            "\n",
            "    *       *\n",
            "\n"
          ]
        }
      ]
    },
    {
      "cell_type": "markdown",
      "source": [
        "## 課題7"
      ],
      "metadata": {
        "id": "ouqTUmPQIKGF"
      }
    },
    {
      "cell_type": "markdown",
      "source": [
        "for文を使って、以下のように出力してください"
      ],
      "metadata": {
        "id": "WHSxdOHuIMRM"
      }
    },
    {
      "cell_type": "markdown",
      "source": [
        "![IuP0M16.png](https://imgur.com/IuP0M16.png)"
      ],
      "metadata": {
        "id": "-G--WFTkIM8s"
      }
    },
    {
      "cell_type": "code",
      "source": [
        "# 入力用\n",
        "\n",
        "import numpy as np\n",
        "\n",
        "# 大きさの指定\n",
        "n = 4\n",
        "\n",
        "# 1つ目の上半分の出力\n",
        "for i in range(n):\n",
        "\n",
        "  for j in range(n - i - 1):\n",
        "    print(' ', end=\"\")\n",
        "\n",
        "  for j in range(2 * i + 1):\n",
        "    print('*', end=\"\")\n",
        "\n",
        "  for j in range(2*(n-i-1)+1):\n",
        "    print(' ', end=\"\")\n",
        "\n",
        "  for j in range(2 * i + 1):\n",
        "    print('*', end=\"\")\n",
        "  \n",
        "  print('\\n')\n",
        "\n",
        "# 1つ目の下半分の出力\n",
        "for i in reversed(range(n-1)):\n",
        "\n",
        "  for j in range(n - i - 1):\n",
        "    print(' ', end=\"\")\n",
        "\n",
        "  for j in range(2 * i + 1):\n",
        "    print('*', end=\"\")\n",
        "\n",
        "  for j in range(2*(n-i-1)+1):\n",
        "    print(' ', end=\"\")\n",
        "\n",
        "  for j in range(2 * i + 1):\n",
        "    print('*', end=\"\")\n",
        "  \n",
        "  print('\\n')\n",
        "\n",
        "# 1つ目の上半分の出力\n",
        "for i in range(1, n):\n",
        "\n",
        "  for j in range(n - i - 1):\n",
        "    print(' ', end=\"\")\n",
        "\n",
        "  for j in range(2 * i + 1):\n",
        "    print('*', end=\"\")\n",
        "\n",
        "  for j in range(2*(n-i-1)+1):\n",
        "    print(' ', end=\"\")\n",
        "\n",
        "  for j in range(2 * i + 1):\n",
        "    print('*', end=\"\")\n",
        "  \n",
        "  print('\\n')\n",
        "\n",
        "# 2つ目の下半分の出力\n",
        "for i in reversed(range(n-1)):\n",
        "\n",
        "  for j in range(n - i - 1):\n",
        "    print(' ', end=\"\")\n",
        "\n",
        "  for j in range(2 * i + 1):\n",
        "    print('*', end=\"\")\n",
        "\n",
        "  for j in range(2*(n-i-1)+1):\n",
        "    print(' ', end=\"\")\n",
        "\n",
        "  for j in range(2 * i + 1):\n",
        "    print('*', end=\"\")\n",
        "  \n",
        "  print('\\n')\n"
      ],
      "metadata": {
        "id": "BVXjDteuIijL",
        "outputId": "ab8358ad-d594-4655-8711-41215e4492cb",
        "colab": {
          "base_uri": "https://localhost:8080/"
        }
      },
      "execution_count": 23,
      "outputs": [
        {
          "output_type": "stream",
          "name": "stdout",
          "text": [
            "   *       *\n",
            "\n",
            "  ***     ***\n",
            "\n",
            " *****   *****\n",
            "\n",
            "******* *******\n",
            "\n",
            " *****   *****\n",
            "\n",
            "  ***     ***\n",
            "\n",
            "   *       *\n",
            "\n",
            "  ***     ***\n",
            "\n",
            " *****   *****\n",
            "\n",
            "******* *******\n",
            "\n",
            " *****   *****\n",
            "\n",
            "  ***     ***\n",
            "\n",
            "   *       *\n",
            "\n"
          ]
        }
      ]
    },
    {
      "cell_type": "markdown",
      "source": [
        "## 課題8"
      ],
      "metadata": {
        "id": "31u0ExX2IjWj"
      }
    },
    {
      "cell_type": "markdown",
      "source": [
        "課題7の場合を`n=4`として、nを自分で設定して出力できるようにしてください"
      ],
      "metadata": {
        "id": "zeOvmKarInpz"
      }
    },
    {
      "cell_type": "markdown",
      "source": [
        "＜例＞ n=5の場合  \n",
        "\n",
        "![AlTnu1k.png](https://imgur.com/AlTnu1k.png)"
      ],
      "metadata": {
        "id": "2uLR5sbKIov2"
      }
    },
    {
      "cell_type": "code",
      "source": [
        "# 入力用\n",
        "\n",
        "# 入力用\n",
        "\n",
        "import numpy as np\n",
        "\n",
        "# 大きさの指定\n",
        "n = 5\n",
        "\n",
        "# 1つ目の上半分の出力\n",
        "for i in range(n):\n",
        "\n",
        "  for j in range(n - i - 1):\n",
        "    print(' ', end=\"\")\n",
        "\n",
        "  for j in range(2 * i + 1):\n",
        "    print('*', end=\"\")\n",
        "\n",
        "  for j in range(2*(n-i-1)+1):\n",
        "    print(' ', end=\"\")\n",
        "\n",
        "  for j in range(2 * i + 1):\n",
        "    print('*', end=\"\")\n",
        "  \n",
        "  print('\\n')\n",
        "\n",
        "# 1つ目の下半分の出力\n",
        "for i in reversed(range(n-1)):\n",
        "\n",
        "  for j in range(n - i - 1):\n",
        "    print(' ', end=\"\")\n",
        "\n",
        "  for j in range(2 * i + 1):\n",
        "    print('*', end=\"\")\n",
        "\n",
        "  for j in range(2*(n-i-1)+1):\n",
        "    print(' ', end=\"\")\n",
        "\n",
        "  for j in range(2 * i + 1):\n",
        "    print('*', end=\"\")\n",
        "  \n",
        "  print('\\n')\n",
        "\n",
        "# 1つ目の上半分の出力\n",
        "for i in range(1, n):\n",
        "\n",
        "  for j in range(n - i - 1):\n",
        "    print(' ', end=\"\")\n",
        "\n",
        "  for j in range(2 * i + 1):\n",
        "    print('*', end=\"\")\n",
        "\n",
        "  for j in range(2*(n-i-1)+1):\n",
        "    print(' ', end=\"\")\n",
        "\n",
        "  for j in range(2 * i + 1):\n",
        "    print('*', end=\"\")\n",
        "  \n",
        "  print('\\n')\n",
        "\n",
        "# 2つ目の下半分の出力\n",
        "for i in reversed(range(n-1)):\n",
        "\n",
        "  for j in range(n - i - 1):\n",
        "    print(' ', end=\"\")\n",
        "\n",
        "  for j in range(2 * i + 1):\n",
        "    print('*', end=\"\")\n",
        "\n",
        "  for j in range(2*(n-i-1)+1):\n",
        "    print(' ', end=\"\")\n",
        "\n",
        "  for j in range(2 * i + 1):\n",
        "    print('*', end=\"\")\n",
        "  \n",
        "  print('\\n')\n"
      ],
      "metadata": {
        "id": "TXJaIVbYI_Cd",
        "outputId": "5f733b8f-a937-443b-9175-7560907226ee",
        "colab": {
          "base_uri": "https://localhost:8080/"
        }
      },
      "execution_count": 24,
      "outputs": [
        {
          "output_type": "stream",
          "name": "stdout",
          "text": [
            "    *         *\n",
            "\n",
            "   ***       ***\n",
            "\n",
            "  *****     *****\n",
            "\n",
            " *******   *******\n",
            "\n",
            "********* *********\n",
            "\n",
            " *******   *******\n",
            "\n",
            "  *****     *****\n",
            "\n",
            "   ***       ***\n",
            "\n",
            "    *         *\n",
            "\n",
            "   ***       ***\n",
            "\n",
            "  *****     *****\n",
            "\n",
            " *******   *******\n",
            "\n",
            "********* *********\n",
            "\n",
            " *******   *******\n",
            "\n",
            "  *****     *****\n",
            "\n",
            "   ***       ***\n",
            "\n",
            "    *         *\n",
            "\n"
          ]
        }
      ]
    },
    {
      "cell_type": "code",
      "source": [],
      "metadata": {
        "id": "vBQeDzYQrBT6"
      },
      "execution_count": null,
      "outputs": []
    }
  ]
}